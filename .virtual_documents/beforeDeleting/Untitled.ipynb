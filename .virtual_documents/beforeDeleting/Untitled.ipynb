numMap = {
    0: 2
}
if 0 in numMap:
    print(1)
if 2 in numMap:
    print(2)


max(numMap)


numMap[1] = 3
numMap


len(numMap)


class TreeNode:
    def __init__(self, val=0, left=None, right=None):
        self.val = val
        self.left = left
        self.right = right
root = TreeNode(2)
root.left = TreeNode(3)
root.right = TreeNode(5)
root.left.left = TreeNode(8)
root.left.right = TreeNode(13)
root.right.left = TreeNode(21)
root.right.right = TreeNode(34)
root


from collections import deque
def reverseOddLevels(root: TreeNode) -> TreeNode:
    if not root: 
        return None

    q = deque([root])
    level = 0
     
    while q:
        print(f'level: {level}\nq: {q}')
        size = len(q) 
        print('size:', size)
        nodes = list(q) # nodes of this level
        print('nodes of this level: ', nodes)
        #if len(nodes) == size: print('yes')
        if level % 2 == 1:
            i, j = 0, len(nodes)-1
            
            while i < j:
                # reverse from the outermost
                nodes[i].val, nodes[j].val = nodes[j].val, nodes[i].val
                i += 1
                j -= 1
        
        # enqueue next level
        for _ in range(size):
            node = q.popleft()
            if node.left:
                q.append(node.left)
            if node.right:
                q.append(node.right)
        
        level += 1
    
    return root
        


reverseOddLevels(root=root)


True and None


None < 'd'


'a' < 'd'


mylist = [4, 5, 1, 2]
mylist.sort(ascending= True)
mylist




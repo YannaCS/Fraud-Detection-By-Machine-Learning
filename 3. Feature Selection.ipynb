{
 "cells": [
  {
   "cell_type": "code",
   "execution_count": 2,
   "metadata": {},
   "outputs": [],
   "source": [
    "import pandas as pd\n",
    "import numpy as np"
   ]
  },
  {
   "cell_type": "code",
   "execution_count": 3,
   "metadata": {},
   "outputs": [],
   "source": [
    "data_all = pd.read_csv('vars 308.csv')"
   ]
  },
  {
   "cell_type": "code",
   "execution_count": 4,
   "metadata": {},
   "outputs": [
    {
     "data": {
      "text/html": [
       "<div>\n",
       "<style scoped>\n",
       "    .dataframe tbody tr th:only-of-type {\n",
       "        vertical-align: middle;\n",
       "    }\n",
       "\n",
       "    .dataframe tbody tr th {\n",
       "        vertical-align: top;\n",
       "    }\n",
       "\n",
       "    .dataframe thead th {\n",
       "        text-align: right;\n",
       "    }\n",
       "</style>\n",
       "<table border=\"1\" class=\"dataframe\">\n",
       "  <thead>\n",
       "    <tr style=\"text-align: right;\">\n",
       "      <th></th>\n",
       "      <th>record</th>\n",
       "      <th>fraud_label</th>\n",
       "      <th>dow_risk</th>\n",
       "      <th>ssn_day_since</th>\n",
       "      <th>ssn_count_0</th>\n",
       "      <th>ssn_count_1</th>\n",
       "      <th>ssn_count_3</th>\n",
       "      <th>ssn_count_7</th>\n",
       "      <th>ssn_count_14</th>\n",
       "      <th>ssn_count_30</th>\n",
       "      <th>...</th>\n",
       "      <th>ssn_homephone_count_0_by_3</th>\n",
       "      <th>ssn_homephone_count_0_by_7</th>\n",
       "      <th>ssn_homephone_count_0_by_14</th>\n",
       "      <th>ssn_homephone_count_0_by_30</th>\n",
       "      <th>ssn_homephone_count_1_by_3</th>\n",
       "      <th>ssn_homephone_count_1_by_7</th>\n",
       "      <th>ssn_homephone_count_1_by_14</th>\n",
       "      <th>ssn_homephone_count_1_by_30</th>\n",
       "      <th>ssn_name_count_0_by_3</th>\n",
       "      <th>ssn_name_count_0_by_7</th>\n",
       "    </tr>\n",
       "  </thead>\n",
       "  <tbody>\n",
       "    <tr>\n",
       "      <th>0</th>\n",
       "      <td>1</td>\n",
       "      <td>0</td>\n",
       "      <td>0.014499</td>\n",
       "      <td>0.0</td>\n",
       "      <td>1</td>\n",
       "      <td>1</td>\n",
       "      <td>1</td>\n",
       "      <td>1</td>\n",
       "      <td>1</td>\n",
       "      <td>1</td>\n",
       "      <td>...</td>\n",
       "      <td>3.0</td>\n",
       "      <td>7.0</td>\n",
       "      <td>14.0</td>\n",
       "      <td>30.0</td>\n",
       "      <td>3.0</td>\n",
       "      <td>7.0</td>\n",
       "      <td>14.0</td>\n",
       "      <td>30.0</td>\n",
       "      <td>3.0</td>\n",
       "      <td>7.0</td>\n",
       "    </tr>\n",
       "    <tr>\n",
       "      <th>1</th>\n",
       "      <td>2</td>\n",
       "      <td>1</td>\n",
       "      <td>0.014499</td>\n",
       "      <td>0.0</td>\n",
       "      <td>1</td>\n",
       "      <td>1</td>\n",
       "      <td>1</td>\n",
       "      <td>1</td>\n",
       "      <td>1</td>\n",
       "      <td>1</td>\n",
       "      <td>...</td>\n",
       "      <td>3.0</td>\n",
       "      <td>7.0</td>\n",
       "      <td>14.0</td>\n",
       "      <td>30.0</td>\n",
       "      <td>3.0</td>\n",
       "      <td>7.0</td>\n",
       "      <td>14.0</td>\n",
       "      <td>30.0</td>\n",
       "      <td>3.0</td>\n",
       "      <td>7.0</td>\n",
       "    </tr>\n",
       "    <tr>\n",
       "      <th>2</th>\n",
       "      <td>3</td>\n",
       "      <td>0</td>\n",
       "      <td>0.014499</td>\n",
       "      <td>0.0</td>\n",
       "      <td>1</td>\n",
       "      <td>1</td>\n",
       "      <td>1</td>\n",
       "      <td>1</td>\n",
       "      <td>1</td>\n",
       "      <td>1</td>\n",
       "      <td>...</td>\n",
       "      <td>3.0</td>\n",
       "      <td>7.0</td>\n",
       "      <td>14.0</td>\n",
       "      <td>30.0</td>\n",
       "      <td>3.0</td>\n",
       "      <td>7.0</td>\n",
       "      <td>14.0</td>\n",
       "      <td>30.0</td>\n",
       "      <td>3.0</td>\n",
       "      <td>7.0</td>\n",
       "    </tr>\n",
       "    <tr>\n",
       "      <th>3</th>\n",
       "      <td>4</td>\n",
       "      <td>0</td>\n",
       "      <td>0.014499</td>\n",
       "      <td>0.0</td>\n",
       "      <td>1</td>\n",
       "      <td>1</td>\n",
       "      <td>1</td>\n",
       "      <td>1</td>\n",
       "      <td>1</td>\n",
       "      <td>1</td>\n",
       "      <td>...</td>\n",
       "      <td>3.0</td>\n",
       "      <td>7.0</td>\n",
       "      <td>14.0</td>\n",
       "      <td>30.0</td>\n",
       "      <td>3.0</td>\n",
       "      <td>7.0</td>\n",
       "      <td>14.0</td>\n",
       "      <td>30.0</td>\n",
       "      <td>3.0</td>\n",
       "      <td>7.0</td>\n",
       "    </tr>\n",
       "    <tr>\n",
       "      <th>4</th>\n",
       "      <td>5</td>\n",
       "      <td>0</td>\n",
       "      <td>0.014499</td>\n",
       "      <td>0.0</td>\n",
       "      <td>1</td>\n",
       "      <td>1</td>\n",
       "      <td>1</td>\n",
       "      <td>1</td>\n",
       "      <td>1</td>\n",
       "      <td>1</td>\n",
       "      <td>...</td>\n",
       "      <td>3.0</td>\n",
       "      <td>7.0</td>\n",
       "      <td>14.0</td>\n",
       "      <td>30.0</td>\n",
       "      <td>3.0</td>\n",
       "      <td>7.0</td>\n",
       "      <td>14.0</td>\n",
       "      <td>30.0</td>\n",
       "      <td>3.0</td>\n",
       "      <td>7.0</td>\n",
       "    </tr>\n",
       "  </tbody>\n",
       "</table>\n",
       "<p>5 rows × 311 columns</p>\n",
       "</div>"
      ],
      "text/plain": [
       "   record  fraud_label  dow_risk  ssn_day_since  ssn_count_0  ssn_count_1  \\\n",
       "0       1            0  0.014499            0.0            1            1   \n",
       "1       2            1  0.014499            0.0            1            1   \n",
       "2       3            0  0.014499            0.0            1            1   \n",
       "3       4            0  0.014499            0.0            1            1   \n",
       "4       5            0  0.014499            0.0            1            1   \n",
       "\n",
       "   ssn_count_3  ssn_count_7  ssn_count_14  ssn_count_30  ...  \\\n",
       "0            1            1             1             1  ...   \n",
       "1            1            1             1             1  ...   \n",
       "2            1            1             1             1  ...   \n",
       "3            1            1             1             1  ...   \n",
       "4            1            1             1             1  ...   \n",
       "\n",
       "   ssn_homephone_count_0_by_3  ssn_homephone_count_0_by_7  \\\n",
       "0                         3.0                         7.0   \n",
       "1                         3.0                         7.0   \n",
       "2                         3.0                         7.0   \n",
       "3                         3.0                         7.0   \n",
       "4                         3.0                         7.0   \n",
       "\n",
       "   ssn_homephone_count_0_by_14  ssn_homephone_count_0_by_30  \\\n",
       "0                         14.0                         30.0   \n",
       "1                         14.0                         30.0   \n",
       "2                         14.0                         30.0   \n",
       "3                         14.0                         30.0   \n",
       "4                         14.0                         30.0   \n",
       "\n",
       "   ssn_homephone_count_1_by_3  ssn_homephone_count_1_by_7  \\\n",
       "0                         3.0                         7.0   \n",
       "1                         3.0                         7.0   \n",
       "2                         3.0                         7.0   \n",
       "3                         3.0                         7.0   \n",
       "4                         3.0                         7.0   \n",
       "\n",
       "   ssn_homephone_count_1_by_14  ssn_homephone_count_1_by_30  \\\n",
       "0                         14.0                         30.0   \n",
       "1                         14.0                         30.0   \n",
       "2                         14.0                         30.0   \n",
       "3                         14.0                         30.0   \n",
       "4                         14.0                         30.0   \n",
       "\n",
       "   ssn_name_count_0_by_3  ssn_name_count_0_by_7  \n",
       "0                    3.0                    7.0  \n",
       "1                    3.0                    7.0  \n",
       "2                    3.0                    7.0  \n",
       "3                    3.0                    7.0  \n",
       "4                    3.0                    7.0  \n",
       "\n",
       "[5 rows x 311 columns]"
      ]
     },
     "execution_count": 4,
     "metadata": {},
     "output_type": "execute_result"
    }
   ],
   "source": [
    "data_all.head()"
   ]
  },
  {
   "cell_type": "code",
   "execution_count": 5,
   "metadata": {},
   "outputs": [],
   "source": [
    "data = data_all[data_all['record'] <= 833508]\n",
    "data = data[data['record'] >= 35755]\n",
    "data.drop(['record'],axis=1,inplace=True)\n",
    "data['RANDOM'] = np.random.ranf(len(data))"
   ]
  },
  {
   "cell_type": "markdown",
   "metadata": {},
   "source": [
    "## Filter"
   ]
  },
  {
   "cell_type": "code",
   "execution_count": 6,
   "metadata": {},
   "outputs": [],
   "source": [
    "num_vars = 311\n",
    "goods = data[data['fraud_label'] == 0]\n",
    "bads = data[data['fraud_label'] == 1]\n",
    "\n",
    "KSFDR = pd.DataFrame(np.zeros((num_vars+1,3)))\n",
    "i = 0\n",
    "for col in data:\n",
    "        KSFDR.loc[i,0] = col\n",
    "        i = i+1\n",
    "KSFDR.columns=['feature','KS','FDR']"
   ]
  },
  {
   "cell_type": "code",
   "execution_count": 7,
   "metadata": {},
   "outputs": [],
   "source": [
    "num_bads = bads.shape[0]"
   ]
  },
  {
   "cell_type": "code",
   "execution_count": 8,
   "metadata": {},
   "outputs": [],
   "source": [
    "from scipy.stats import ks_2samp\n",
    "from sklearn.feature_selection import SelectKBest"
   ]
  },
  {
   "cell_type": "code",
   "execution_count": null,
   "metadata": {
    "scrolled": true
   },
   "outputs": [
    {
     "name": "stderr",
     "output_type": "stream",
     "text": [
      "c:\\users\\ss\\appdata\\local\\programs\\python\\python37\\lib\\site-packages\\ipykernel_launcher.py:3: SettingWithCopyWarning: \n",
      "A value is trying to be set on a copy of a slice from a DataFrame\n",
      "\n",
      "See the caveats in the documentation: https://pandas.pydata.org/pandas-docs/stable/user_guide/indexing.html#returning-a-view-versus-a-copy\n",
      "  This is separate from the ipykernel package so we can avoid doing imports until\n"
     ]
    }
   ],
   "source": [
    "j = 0\n",
    "for col in data:\n",
    "    KSFDR['KS'][j] = ks_2samp(goods[col],bads[col])[0]\n",
    "    j = j+1\n",
    "KSFDR.sort_values(by=['KS'], ascending = False, inplace = True)\n",
    "KSFDR.head()"
   ]
  },
  {
   "cell_type": "code",
   "execution_count": null,
   "metadata": {},
   "outputs": [],
   "source": [
    "cut = int(round(len(data)*0.03))\n",
    "k = 0\n",
    "for col in data:\n",
    "    x1 = data.sort_values(col, ascending = False).head(cut)\n",
    "    x2 = data.sort_values(col, ascending = True).head(cut)\n",
    "    f1 = x1.loc[:,'fraud_label']\n",
    "    f2 = x2.loc[:,'fraud_label']\n",
    "    FDR1 = sum(f1)/num_bads\n",
    "    FDR2 = sum(f2)/num_bads\n",
    "    FDR = max(FDR1,FDR2)\n",
    "    KSFDR.loc[k,'FDR'] = FDR\n",
    "    k = k+1"
   ]
  },
  {
   "cell_type": "code",
   "execution_count": null,
   "metadata": {},
   "outputs": [],
   "source": [
    "KSFDR['rank_ks'] = KSFDR['KS'].rank(ascending = True)\n",
    "KSFDR['rank_FDR'] = KSFDR['FDR'].rank(ascending = True)\n",
    "KSFDR['Avg_rank'] = (KSFDR['rank_ks']+KSFDR['rank_FDR'])/2\n",
    "KSFDR.sort_values(by=['avg_rank'], ascending = False, inplace = True)"
   ]
  },
  {
   "cell_type": "code",
   "execution_count": null,
   "metadata": {},
   "outputs": [],
   "source": [
    "KSFDR.reset_index(drop=True)\n",
    "num_keep = 70\n",
    "cols_keep = list(KSFDR['field'][1:num_keep])\n",
    "cols_keep"
   ]
  },
  {
   "cell_type": "markdown",
   "metadata": {},
   "source": [
    "## Wrapper"
   ]
  },
  {
   "cell_type": "code",
   "execution_count": null,
   "metadata": {},
   "outputs": [],
   "source": [
    "newX = data.drop(['fraud_label'],axis=1,inplace=True).loc[:,cols_keep]\n",
    "y = data.fraud_label"
   ]
  },
  {
   "cell_type": "code",
   "execution_count": null,
   "metadata": {},
   "outputs": [],
   "source": [
    "# wrapper\n",
    "import sklearn\n",
    "from sklearn.feature_selection import RFECV\n",
    "from sklearn.linear_model import LogisticRegression\n",
    "\n",
    "# step: If greater than or equal to 1, \n",
    "# then step corresponds to the (integer) number of features to remove at each iteration. \n",
    "# If within (0.0, 1.0), then step corresponds to the percentage (rounded down) of \n",
    "# features to remove at each iteration\n",
    "\n",
    "# cv: cross-validation generator or an iterable\n",
    "\n",
    "# Verbose: Controls verbosity of output\n",
    "\n",
    "# n_jobs: Number of cores to run in parallel while fitting across folds\n",
    "\n",
    "model = LogisticRegression()\n",
    "refec = RFECV(estimator = model, step=1, cv=3, verbose=3, n_jobs=-1, scoring = 'roc_auc')\n",
    "refec.fit(newX, y)"
   ]
  },
  {
   "cell_type": "code",
   "execution_count": null,
   "metadata": {},
   "outputs": [],
   "source": [
    "# x - Number of Features\n",
    "# y - Performance Score (ROC_AUC)\n",
    "import matplotlib.pyplot as plt\n",
    "plt.figure()\n",
    "plt.plot(range(1,len(refec.grid_scores_)+1), refec.grid_scores_)"
   ]
  }
 ],
 "metadata": {
  "kernelspec": {
   "display_name": "Python 3",
   "language": "python",
   "name": "python3"
  },
  "language_info": {
   "codemirror_mode": {
    "name": "ipython",
    "version": 3
   },
   "file_extension": ".py",
   "mimetype": "text/x-python",
   "name": "python",
   "nbconvert_exporter": "python",
   "pygments_lexer": "ipython3",
   "version": "3.7.2"
  }
 },
 "nbformat": 4,
 "nbformat_minor": 2
}

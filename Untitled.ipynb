{
 "cells": [
  {
   "cell_type": "code",
   "execution_count": 4,
   "id": "0b3b5652-a3f4-4696-8d93-64e21f3a668d",
   "metadata": {},
   "outputs": [
    {
     "name": "stdout",
     "output_type": "stream",
     "text": [
      "1\n"
     ]
    }
   ],
   "source": [
    "numMap = {\n",
    "    0: 2\n",
    "}\n",
    "if 0 in numMap:\n",
    "    print(1)\n",
    "if 2 in numMap:\n",
    "    print(2)"
   ]
  },
  {
   "cell_type": "code",
   "execution_count": 7,
   "id": "27ed3d8e-a367-4164-a2b1-a0339e5f336e",
   "metadata": {},
   "outputs": [
    {
     "data": {
      "text/plain": [
       "0"
      ]
     },
     "execution_count": 7,
     "metadata": {},
     "output_type": "execute_result"
    }
   ],
   "source": [
    "max(numMap)"
   ]
  },
  {
   "cell_type": "code",
   "execution_count": 9,
   "id": "89eb6564-2d7c-4b1a-a441-ae1d32c2a84b",
   "metadata": {},
   "outputs": [
    {
     "data": {
      "text/plain": [
       "{0: 2, 1: 3}"
      ]
     },
     "execution_count": 9,
     "metadata": {},
     "output_type": "execute_result"
    }
   ],
   "source": [
    "numMap[1] = 3\n",
    "numMap"
   ]
  },
  {
   "cell_type": "code",
   "execution_count": 10,
   "id": "2e0d4236-7f6a-4066-a69a-83bdabd4002d",
   "metadata": {},
   "outputs": [
    {
     "data": {
      "text/plain": [
       "2"
      ]
     },
     "execution_count": 10,
     "metadata": {},
     "output_type": "execute_result"
    }
   ],
   "source": [
    "len(numMap)"
   ]
  },
  {
   "cell_type": "code",
   "execution_count": 1,
   "id": "9a8a8811-7d03-4745-9ab7-12ca1dd00b16",
   "metadata": {},
   "outputs": [
    {
     "data": {
      "text/plain": [
       "<__main__.TreeNode at 0x113cbe150>"
      ]
     },
     "execution_count": 1,
     "metadata": {},
     "output_type": "execute_result"
    }
   ],
   "source": [
    "class TreeNode:\n",
    "    def __init__(self, val=0, left=None, right=None):\n",
    "        self.val = val\n",
    "        self.left = left\n",
    "        self.right = right\n",
    "root = TreeNode(2)\n",
    "root.left = TreeNode(3)\n",
    "root.right = TreeNode(5)\n",
    "root.left.left = TreeNode(8)\n",
    "root.left.right = TreeNode(13)\n",
    "root.right.left = TreeNode(21)\n",
    "root.right.right = TreeNode(34)\n",
    "root"
   ]
  },
  {
   "cell_type": "code",
   "execution_count": 13,
   "id": "6bb1cfba-6606-4860-a23f-c853b7af77c2",
   "metadata": {},
   "outputs": [],
   "source": [
    "from collections import deque\n",
    "def reverseOddLevels(root: TreeNode) -> TreeNode:\n",
    "    if not root: \n",
    "        return None\n",
    "\n",
    "    q = deque([root])\n",
    "    level = 0\n",
    "     \n",
    "    while q:\n",
    "        print(f'level: {level}\\nq: {q}')\n",
    "        size = len(q) \n",
    "        print('size:', size)\n",
    "        nodes = list(q) # nodes of this level\n",
    "        print('nodes of this level: ', nodes)\n",
    "        #if len(nodes) == size: print('yes')\n",
    "        if level % 2 == 1:\n",
    "            i, j = 0, len(nodes)-1\n",
    "            \n",
    "            while i < j:\n",
    "                # reverse from the outermost\n",
    "                nodes[i].val, nodes[j].val = nodes[j].val, nodes[i].val\n",
    "                i += 1\n",
    "                j -= 1\n",
    "        \n",
    "        # enqueue next level\n",
    "        for _ in range(size):\n",
    "            node = q.popleft()\n",
    "            if node.left:\n",
    "                q.append(node.left)\n",
    "            if node.right:\n",
    "                q.append(node.right)\n",
    "        \n",
    "        level += 1\n",
    "    \n",
    "    return root\n",
    "        "
   ]
  },
  {
   "cell_type": "code",
   "execution_count": 14,
   "id": "57aa64ff-b492-4fb2-9778-68252138f286",
   "metadata": {},
   "outputs": [
    {
     "name": "stdout",
     "output_type": "stream",
     "text": [
      "level: 0\n",
      "q: deque([<__main__.TreeNode object at 0x113cbe150>])\n",
      "size: 1\n",
      "nodes of this level:  [<__main__.TreeNode object at 0x113cbe150>]\n",
      "yes\n",
      "level: 1\n",
      "q: deque([<__main__.TreeNode object at 0x113ce4350>, <__main__.TreeNode object at 0x113e66f10>])\n",
      "size: 2\n",
      "nodes of this level:  [<__main__.TreeNode object at 0x113ce4350>, <__main__.TreeNode object at 0x113e66f10>]\n",
      "yes\n",
      "level: 2\n",
      "q: deque([<__main__.TreeNode object at 0x113e67710>, <__main__.TreeNode object at 0x113e678d0>, <__main__.TreeNode object at 0x113e674d0>, <__main__.TreeNode object at 0x113e67a90>])\n",
      "size: 4\n",
      "nodes of this level:  [<__main__.TreeNode object at 0x113e67710>, <__main__.TreeNode object at 0x113e678d0>, <__main__.TreeNode object at 0x113e674d0>, <__main__.TreeNode object at 0x113e67a90>]\n",
      "yes\n"
     ]
    },
    {
     "data": {
      "text/plain": [
       "<__main__.TreeNode at 0x113cbe150>"
      ]
     },
     "execution_count": 14,
     "metadata": {},
     "output_type": "execute_result"
    }
   ],
   "source": [
    "reverseOddLevels(root=root)"
   ]
  },
  {
   "cell_type": "code",
   "execution_count": null,
   "id": "a5d50b41-580a-4348-a33f-988033ceda2d",
   "metadata": {},
   "outputs": [],
   "source": []
  }
 ],
 "metadata": {
  "kernelspec": {
   "display_name": "Python 3 (ipykernel)",
   "language": "python",
   "name": "python3"
  },
  "language_info": {
   "codemirror_mode": {
    "name": "ipython",
    "version": 3
   },
   "file_extension": ".py",
   "mimetype": "text/x-python",
   "name": "python",
   "nbconvert_exporter": "python",
   "pygments_lexer": "ipython3",
   "version": "3.11.5"
  }
 },
 "nbformat": 4,
 "nbformat_minor": 5
}
